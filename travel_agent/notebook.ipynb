{
 "cells": [
  {
   "cell_type": "markdown",
   "id": "dbdf448a5997c90a",
   "metadata": {},
   "source": [
    "# Agent Quality with RAGAS"
   ]
  },
  {
   "cell_type": "code",
   "id": "18f3a02ead1241e9",
   "metadata": {},
   "source": [
    "import warnings\n",
    "\n",
    "warnings.simplefilter(action=\"ignore\", category=FutureWarning)"
   ],
   "outputs": [],
   "execution_count": null
  },
  {
   "cell_type": "code",
   "id": "initial_id",
   "metadata": {},
   "source": [
    "import couchbase.auth\n",
    "import couchbase.cluster\n",
    "import couchbase.options\n",
    "import datasets\n",
    "import dotenv\n",
    "import os\n",
    "\n",
    "dotenv.load_dotenv()\n",
    "\n",
    "conn_opts = couchbase.options.ClusterOptions(\n",
    "    authenticator=couchbase.auth.PasswordAuthenticator(\n",
    "        os.getenv(\"AGENT_CATALOG_USERNAME\"), os.getenv(\"AGENT_CATALOG_PASSWORD\")\n",
    "    )\n",
    ")\n",
    "cluster = couchbase.cluster.Cluster.connect(os.getenv(\"AGENT_CATALOG_CONN_STRING\"), conn_opts)\n",
    "\n",
    "# We will treat the results of our tools as RAGAS context (we need to transpose our generations).\n",
    "query = cluster.analytics_query(\"\"\"\n",
    "    WITH LatestGenerations AS (\n",
    "        FROM\n",
    "            `travel-sample`.agent_activity.raw_logs AS s\n",
    "        WHERE \n",
    "            s.`grouping` IS NOT NULL\n",
    "        GROUP BY \n",
    "            s.`grouping`,\n",
    "            s.session\n",
    "            GROUP AS g\n",
    "        LETTING\n",
    "            msgs = (\n",
    "                FROM \n",
    "                    g AS gi\n",
    "                SELECT\n",
    "                    gi.s.content.content,\n",
    "                    gi.s.content.tool_calls,\n",
    "                    gi.s.kind,\n",
    "                    gi.s.timestamp,\n",
    "                    ROW_NUMBER() OVER () AS row_num\n",
    "            ),\n",
    "            first_human = (\n",
    "                FROM \n",
    "                    msgs AS msgsi\n",
    "                WHERE \n",
    "                    msgsi.kind = \"human\"\n",
    "                SELECT\n",
    "                    msgsi.content,\n",
    "                    msgsi.row_num\n",
    "                ORDER BY\n",
    "                    msgsi.timestamp ASC\n",
    "                LIMIT 1\n",
    "            )[0],\n",
    "            last_message = (\n",
    "                FROM\n",
    "                    msgs AS msgsi\n",
    "                SELECT \n",
    "                    COALESCE(msgsi.content, msgsi.tool_calls) AS content,\n",
    "                    msgsi.row_num\n",
    "                ORDER BY \n",
    "                    msgsi.timestamp DESC\n",
    "                LIMIT 1\n",
    "            )[0],\n",
    "            context = (\n",
    "                FROM \n",
    "                    msgs AS msgsi\n",
    "                WHERE\n",
    "                    msgsi.row_num != first_human.row_num AND \n",
    "                    msgsi.row_num != last_message.row_num\n",
    "                SELECT VALUE\n",
    "                   COALESCE(msgsi.content, msgsi.tool_calls)\n",
    "            )\n",
    "        SELECT\n",
    "            first_human.content AS question,\n",
    "            last_message.content AS answer,\n",
    "            context AS contexts,\n",
    "            ROW_NUMBER() OVER () AS row_num\n",
    "    )\n",
    "    SELECT\n",
    "        (FROM LatestGenerations e SELECT VALUE e.question ORDER BY e.row_num) AS question,\n",
    "        (FROM LatestGenerations e SELECT VALUE e.answer ORDER BY e.row_num) AS answer,\n",
    "        (FROM LatestGenerations e SELECT VALUE e.contexts ORDER BY e.row_num) AS contexts\n",
    "\"\"\")\n",
    "ragas_dataset = datasets.Dataset.from_dict(list(query)[0])\n",
    "ragas_dataset"
   ],
   "outputs": [],
   "execution_count": null
  },
  {
   "cell_type": "code",
   "id": "7859260e226ddf6d",
   "metadata": {},
   "source": [
    "import langchain_openai\n",
    "import ragas.llms\n",
    "import ragas.metrics\n",
    "\n",
    "chat_model = langchain_openai.ChatOpenAI(model=\"gpt-4o\")\n",
    "evaluator_llm = ragas.llms.LangchainLLMWrapper(chat_model)\n",
    "score = ragas.evaluate(\n",
    "    ragas_dataset,\n",
    "    metrics=[\n",
    "        ragas.metrics.AnswerRelevancy(llm=evaluator_llm),\n",
    "        ragas.metrics.ContextUtilization(llm=evaluator_llm),\n",
    "    ],\n",
    ")\n",
    "score.to_pandas()"
   ],
   "outputs": [],
   "execution_count": null
  },
  {
   "cell_type": "markdown",
   "id": "e8d8603089e83524",
   "metadata": {},
   "source": [
    "# Agent Quality around Walks"
   ]
  },
  {
   "cell_type": "code",
   "id": "a8f8b7ab2e86f0e2",
   "metadata": {},
   "source": [
    "# We want to make sure that our agent is routed to the right tasks.\n",
    "# We can do this by analyzing the agent's walks.\n",
    "query = cluster.analytics_query(\"\"\"\n",
    "    FROM\n",
    "        `travel-sample`.agent_activity.Walks() t\n",
    "    SELECT\n",
    "        t;\n",
    "\"\"\")\n",
    "list(query)"
   ],
   "outputs": [],
   "execution_count": null
  },
  {
   "cell_type": "markdown",
   "id": "c9d782ec4bf8cebf",
   "metadata": {},
   "source": [
    "# Agent Quality around Tool Selection"
   ]
  },
  {
   "cell_type": "code",
   "id": "42cc0cd423b88cb6",
   "metadata": {},
   "source": [
    "# We want to assert that our agent is selecting the right tools for the right tasks.\n",
    "# Again, we provide a view to help you enable this.\n",
    "query = cluster.analytics_query(\"\"\"\n",
    "    FROM\n",
    "        `travel-sample`.agent_activity.ToolCalls() t\n",
    "    SELECT\n",
    "        t;\n",
    "\"\"\")\n",
    "list(query)"
   ],
   "outputs": [],
   "execution_count": null
  }
 ],
 "metadata": {
  "kernelspec": {
   "display_name": "Python 3 (ipykernel)",
   "language": "python",
   "name": "python3"
  },
  "language_info": {
   "codemirror_mode": {
    "name": "ipython",
    "version": 3
   },
   "file_extension": ".py",
   "mimetype": "text/x-python",
   "name": "python",
   "nbconvert_exporter": "python",
   "pygments_lexer": "ipython3",
   "version": "3.12.0"
  }
 },
 "nbformat": 4,
 "nbformat_minor": 5
}

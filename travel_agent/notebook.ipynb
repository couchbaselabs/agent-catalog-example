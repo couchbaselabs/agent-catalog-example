{
 "cells": [
  {
   "cell_type": "markdown",
   "id": "dbdf448a5997c90a",
   "metadata": {},
   "source": "# Agent Quality with RAGAS"
  },
  {
   "cell_type": "code",
   "execution_count": 8,
   "id": "18f3a02ead1241e9",
   "metadata": {
    "ExecuteTime": {
     "end_time": "2024-10-09T02:58:21.705627Z",
     "start_time": "2024-10-09T02:58:21.703197Z"
    }
   },
   "outputs": [],
   "source": [
    "import warnings\n",
    "\n",
    "warnings.simplefilter(action=\"ignore\", category=FutureWarning)"
   ]
  },
  {
   "cell_type": "code",
   "execution_count": 9,
   "id": "initial_id",
   "metadata": {
    "ExecuteTime": {
     "end_time": "2024-10-09T02:58:23.529930Z",
     "start_time": "2024-10-09T02:58:22.758228Z"
    },
    "collapsed": true
   },
   "outputs": [
    {
     "data": {
      "text/plain": [
       "Dataset({\n",
       "    features: ['answer', 'contexts', 'question'],\n",
       "    num_rows: 1\n",
       "})"
      ]
     },
     "execution_count": 9,
     "metadata": {},
     "output_type": "execute_result"
    }
   ],
   "source": [
    "import couchbase.auth\n",
    "import couchbase.cluster\n",
    "import couchbase.options\n",
    "import datasets\n",
    "import dotenv\n",
    "import os\n",
    "\n",
    "dotenv.load_dotenv()\n",
    "\n",
    "conn_opts = couchbase.options.ClusterOptions(\n",
    "    authenticator=couchbase.auth.PasswordAuthenticator(\n",
    "        os.getenv(\"AGENT_CATALOG_USERNAME\"), os.getenv(\"AGENT_CATALOG_PASSWORD\")\n",
    "    )\n",
    ")\n",
    "cluster = couchbase.cluster.Cluster.connect(os.getenv(\"AGENT_CATALOG_CONN_STRING\"), conn_opts)\n",
    "bucket_name = os.getenv(\"AGENT_CATALOG_BUCKET\")\n",
    "\n",
    "# We will treat the results of our tools as RAGAS context (we need to transpose our exchanges).\n",
    "query = cluster.analytics_query(f\"\"\"\n",
    "    WITH LatestExchanges AS (\n",
    "        FROM\n",
    "            `{bucket_name}`.agent_activity.Exchanges AS e\n",
    "        LETTING\n",
    "            question = e.question.content,\n",
    "            answer = e.answer.content,\n",
    "            contexts = (\n",
    "                FROM\n",
    "                    e.walk AS w\n",
    "                WHERE\n",
    "                    w.kind = \"tool\"\n",
    "                SELECT VALUE\n",
    "                    w.content.content\n",
    "            )\n",
    "        WHERE\n",
    "            e.sid = `{bucket_name}`.agent_activity.LastSession() AND \n",
    "            IS_STRING(question) AND\n",
    "            IS_STRING(answer) AND\n",
    "            LEN(contexts) > 0\n",
    "        SELECT\n",
    "            question,\n",
    "            answer,\n",
    "            contexts,\n",
    "            ROW_NUMBER() OVER () AS row_num\n",
    "    )\n",
    "    SELECT\n",
    "        (FROM LatestExchanges e SELECT VALUE e.question ORDER BY e.row_num) AS question,\n",
    "        (FROM LatestExchanges e SELECT VALUE e.answer ORDER BY e.row_num) AS answer,\n",
    "        (FROM LatestExchanges e SELECT VALUE e.contexts ORDER BY e.row_num) AS contexts\n",
    "\"\"\")\n",
    "ragas_dataset = datasets.Dataset.from_dict(list(query)[0])\n",
    "ragas_dataset"
   ]
  },
  {
   "cell_type": "code",
   "execution_count": 10,
   "id": "7859260e226ddf6d",
   "metadata": {
    "ExecuteTime": {
     "end_time": "2024-10-09T02:58:39.774673Z",
     "start_time": "2024-10-09T02:58:23.543211Z"
    }
   },
   "outputs": [
    {
     "name": "stderr",
     "output_type": "stream",
     "text": [
      "Evaluating: 100%|██████████| 3/3 [00:15<00:00,  5.14s/it]\n"
     ]
    },
    {
     "data": {
      "text/html": [
       "<div>\n",
       "<style scoped>\n",
       "    .dataframe tbody tr th:only-of-type {\n",
       "        vertical-align: middle;\n",
       "    }\n",
       "\n",
       "    .dataframe tbody tr th {\n",
       "        vertical-align: top;\n",
       "    }\n",
       "\n",
       "    .dataframe thead th {\n",
       "        text-align: right;\n",
       "    }\n",
       "</style>\n",
       "<table border=\"1\" class=\"dataframe\">\n",
       "  <thead>\n",
       "    <tr style=\"text-align: right;\">\n",
       "      <th></th>\n",
       "      <th>question</th>\n",
       "      <th>contexts</th>\n",
       "      <th>answer</th>\n",
       "      <th>faithfulness</th>\n",
       "      <th>answer_relevancy</th>\n",
       "      <th>context_utilization</th>\n",
       "    </tr>\n",
       "  </thead>\n",
       "  <tbody>\n",
       "    <tr>\n",
       "      <th>0</th>\n",
       "      <td>i like beaches</td>\n",
       "      <td>[{\"role\":\"human\",\"content\":\"i like beaches\"}, ...</td>\n",
       "      <td>Based on your interest in beaches, here are so...</td>\n",
       "      <td>0.894737</td>\n",
       "      <td>0.865005</td>\n",
       "      <td>1.0</td>\n",
       "    </tr>\n",
       "  </tbody>\n",
       "</table>\n",
       "</div>"
      ],
      "text/plain": [
       "         question                                           contexts  \\\n",
       "0  i like beaches  [{\"role\":\"human\",\"content\":\"i like beaches\"}, ...   \n",
       "\n",
       "                                              answer  faithfulness  \\\n",
       "0  Based on your interest in beaches, here are so...      0.894737   \n",
       "\n",
       "   answer_relevancy  context_utilization  \n",
       "0          0.865005                  1.0  "
      ]
     },
     "execution_count": 10,
     "metadata": {},
     "output_type": "execute_result"
    }
   ],
   "source": [
    "import ragas.metrics\n",
    "\n",
    "run_config = ragas.RunConfig()\n",
    "ragas.metrics.faithfulness.init(run_config)\n",
    "ragas.metrics.answer_relevancy.init(run_config)\n",
    "ragas.metrics.context_utilization.init(run_config)\n",
    "score = ragas.evaluate(\n",
    "    ragas_dataset,\n",
    "    metrics=[ragas.metrics.faithfulness, ragas.metrics.answer_relevancy, ragas.metrics.context_utilization],\n",
    ")\n",
    "score.to_pandas()"
   ]
  },
  {
   "cell_type": "markdown",
   "id": "e8d8603089e83524",
   "metadata": {},
   "source": "# Agent Quality around Walks"
  },
  {
   "cell_type": "code",
   "execution_count": null,
   "id": "a8f8b7ab2e86f0e2",
   "metadata": {},
   "outputs": [],
   "source": [
    "# We want to assert that our agent is routed to the right tasks.\n",
    "\n"
   ]
  },
  {
   "cell_type": "markdown",
   "id": "c9d782ec4bf8cebf",
   "metadata": {},
   "source": "# Agent Quality around Tool Selection"
  },
  {
   "cell_type": "code",
   "execution_count": null,
   "id": "42cc0cd423b88cb6",
   "metadata": {},
   "outputs": [],
   "source": [
    "# We want to assert that our agent is selecting the right tools for the right tasks."
   ]
  }
 ],
 "metadata": {
  "kernelspec": {
   "display_name": "Python 3",
   "language": "python",
   "name": "python3"
  },
  "language_info": {
   "codemirror_mode": {
    "name": "ipython",
    "version": 2
   },
   "file_extension": ".py",
   "mimetype": "text/x-python",
   "name": "python",
   "nbconvert_exporter": "python",
   "pygments_lexer": "ipython2",
   "version": "2.7.6"
  }
 },
 "nbformat": 4,
 "nbformat_minor": 5
}

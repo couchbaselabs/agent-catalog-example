{
 "cells": [
  {
   "cell_type": "markdown",
   "id": "dbdf448a5997c90a",
   "metadata": {},
   "source": [
    "# Agent Quality with RAGAS"
   ]
  },
  {
   "cell_type": "code",
   "id": "18f3a02ead1241e9",
   "metadata": {
    "ExecuteTime": {
     "end_time": "2024-10-24T22:49:17.423285Z",
     "start_time": "2024-10-24T22:49:17.420896Z"
    }
   },
   "source": [
    "import warnings\n",
    "\n",
    "warnings.simplefilter(action=\"ignore\", category=FutureWarning)"
   ],
   "outputs": [],
   "execution_count": 2
  },
  {
   "cell_type": "code",
   "id": "initial_id",
   "metadata": {
    "ExecuteTime": {
     "end_time": "2024-10-24T22:57:14.871982Z",
     "start_time": "2024-10-24T22:57:14.543801Z"
    }
   },
   "source": [
    "import couchbase.auth\n",
    "import couchbase.cluster\n",
    "import couchbase.options\n",
    "import datasets\n",
    "import dotenv\n",
    "import os\n",
    "\n",
    "dotenv.load_dotenv()\n",
    "\n",
    "conn_opts = couchbase.options.ClusterOptions(\n",
    "    authenticator=couchbase.auth.PasswordAuthenticator(\n",
    "        os.getenv(\"AGENT_CATALOG_USERNAME\"), os.getenv(\"AGENT_CATALOG_PASSWORD\")\n",
    "    )\n",
    ")\n",
    "cluster = couchbase.cluster.Cluster.connect(os.getenv(\"AGENT_CATALOG_CONN_STRING\"), conn_opts)\n",
    "bucket_name = os.getenv(\"AGENT_CATALOG_BUCKET\")\n",
    "\n",
    "# We will treat the results of our tools as RAGAS context (we need to transpose our exchanges).\n",
    "query = cluster.analytics_query(f\"\"\"\n",
    "    WITH LatestExchanges AS (\n",
    "        FROM\n",
    "            `{bucket_name}`.agent_activity.Exchanges() AS e\n",
    "        LETTING\n",
    "            question = e.question.content,\n",
    "            answer = e.answer.content,\n",
    "            contexts = (\n",
    "                FROM\n",
    "                    e.walk AS w\n",
    "                WHERE\n",
    "                    w.kind = \"tool\"\n",
    "                SELECT VALUE\n",
    "                    w.content.content\n",
    "            )\n",
    "        WHERE\n",
    "            IS_STRING(question) AND\n",
    "            IS_STRING(answer) AND\n",
    "            LEN(contexts) > 0\n",
    "        SELECT\n",
    "            question,\n",
    "            answer,\n",
    "            contexts,\n",
    "            ROW_NUMBER() OVER () AS row_num\n",
    "    )\n",
    "    SELECT\n",
    "        (FROM LatestExchanges e SELECT VALUE e.question ORDER BY e.row_num) AS question,\n",
    "        (FROM LatestExchanges e SELECT VALUE e.answer ORDER BY e.row_num) AS answer,\n",
    "        (FROM LatestExchanges e SELECT VALUE e.contexts ORDER BY e.row_num) AS contexts\n",
    "\"\"\")\n",
    "ragas_dataset = datasets.Dataset.from_dict(list(query)[0])\n",
    "ragas_dataset"
   ],
   "outputs": [
    {
     "data": {
      "text/plain": [
       "Dataset({\n",
       "    features: ['answer', 'contexts', 'question'],\n",
       "    num_rows: 1\n",
       "})"
      ]
     },
     "execution_count": 4,
     "metadata": {},
     "output_type": "execute_result"
    }
   ],
   "execution_count": 4
  },
  {
   "cell_type": "code",
   "execution_count": 4,
   "id": "7859260e226ddf6d",
   "metadata": {
    "ExecuteTime": {
     "end_time": "2024-10-17T23:41:25.561725Z",
     "start_time": "2024-10-17T23:41:15.038732Z"
    }
   },
   "outputs": [
    {
     "name": "stderr",
     "output_type": "stream",
     "text": [
      "Evaluating: 100%|██████████| 3/3 [00:09<00:00,  3.27s/it]\n"
     ]
    },
    {
     "data": {
      "text/html": [
       "<div>\n",
       "<style scoped>\n",
       "    .dataframe tbody tr th:only-of-type {\n",
       "        vertical-align: middle;\n",
       "    }\n",
       "\n",
       "    .dataframe tbody tr th {\n",
       "        vertical-align: top;\n",
       "    }\n",
       "\n",
       "    .dataframe thead th {\n",
       "        text-align: right;\n",
       "    }\n",
       "</style>\n",
       "<table border=\"1\" class=\"dataframe\">\n",
       "  <thead>\n",
       "    <tr style=\"text-align: right;\">\n",
       "      <th></th>\n",
       "      <th>question</th>\n",
       "      <th>contexts</th>\n",
       "      <th>answer</th>\n",
       "      <th>faithfulness</th>\n",
       "      <th>answer_relevancy</th>\n",
       "      <th>context_utilization</th>\n",
       "    </tr>\n",
       "  </thead>\n",
       "  <tbody>\n",
       "    <tr>\n",
       "      <th>0</th>\n",
       "      <td>i like beaches</td>\n",
       "      <td>[{\"role\":\"human\",\"content\":\"i like beaches\"}, ...</td>\n",
       "      <td>Based on your interest in beaches, here are so...</td>\n",
       "      <td>1.0</td>\n",
       "      <td>0.884883</td>\n",
       "      <td>0.5</td>\n",
       "    </tr>\n",
       "  </tbody>\n",
       "</table>\n",
       "</div>"
      ],
      "text/plain": [
       "         question                                           contexts  \\\n",
       "0  i like beaches  [{\"role\":\"human\",\"content\":\"i like beaches\"}, ...   \n",
       "\n",
       "                                              answer  faithfulness  \\\n",
       "0  Based on your interest in beaches, here are so...           1.0   \n",
       "\n",
       "   answer_relevancy  context_utilization  \n",
       "0          0.884883                  0.5  "
      ]
     },
     "execution_count": 4,
     "metadata": {},
     "output_type": "execute_result"
    }
   ],
   "source": [
    "import langchain_openai\n",
    "import ragas.llms\n",
    "import ragas.metrics\n",
    "\n",
    "chat_model = langchain_openai.ChatOpenAI(model=\"gpt-4o\")\n",
    "evaluator_llm = ragas.llms.LangchainLLMWrapper(chat_model)\n",
    "score = ragas.evaluate(\n",
    "    ragas_dataset,\n",
    "    metrics=[\n",
    "        ragas.metrics.Faithfulness(llm=evaluator_llm),\n",
    "        ragas.metrics.AnswerRelevancy(llm=evaluator_llm),\n",
    "        ragas.metrics.ContextUtilization(llm=evaluator_llm),\n",
    "    ],\n",
    ")\n",
    "score.to_pandas()"
   ]
  },
  {
   "cell_type": "markdown",
   "id": "e8d8603089e83524",
   "metadata": {},
   "source": [
    "# Agent Quality around Walks"
   ]
  },
  {
   "cell_type": "code",
   "execution_count": 4,
   "id": "a8f8b7ab2e86f0e2",
   "metadata": {},
   "outputs": [],
   "source": [
    "# We want to assert that our agent is routed to the right tasks."
   ]
  },
  {
   "cell_type": "markdown",
   "id": "c9d782ec4bf8cebf",
   "metadata": {},
   "source": [
    "# Agent Quality around Tool Selection"
   ]
  },
  {
   "cell_type": "code",
   "execution_count": 5,
   "id": "42cc0cd423b88cb6",
   "metadata": {},
   "outputs": [],
   "source": [
    "# We want to assert that our agent is selecting the right tools for the right tasks."
   ]
  }
 ],
 "metadata": {
  "kernelspec": {
   "display_name": "Python 3 (ipykernel)",
   "language": "python",
   "name": "python3"
  },
  "language_info": {
   "codemirror_mode": {
    "name": "ipython",
    "version": 3
   },
   "file_extension": ".py",
   "mimetype": "text/x-python",
   "name": "python",
   "nbconvert_exporter": "python",
   "pygments_lexer": "ipython3",
   "version": "3.12.0"
  }
 },
 "nbformat": 4,
 "nbformat_minor": 5
}
